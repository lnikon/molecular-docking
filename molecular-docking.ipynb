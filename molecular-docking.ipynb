{
 "cells": [
  {
   "cell_type": "code",
   "execution_count": 145,
   "id": "d092f023",
   "metadata": {},
   "outputs": [],
   "source": [
    "import numpy as np\n",
    "import os"
   ]
  },
  {
   "cell_type": "code",
   "execution_count": 146,
   "id": "f6bcba0b",
   "metadata": {},
   "outputs": [],
   "source": [
    "### Please note that code in this notebook is as stupid as an African penguin doing quantum physics. Thanks :)"
   ]
  },
  {
   "cell_type": "code",
   "execution_count": 279,
   "id": "1bfce260",
   "metadata": {},
   "outputs": [],
   "source": [
    "def read_model_file(filename):\n",
    "    coords = np.empty((0, 3))\n",
    "    with open(filename) as f:\n",
    "        line = f.readline()\n",
    "        model_to_coords = {}\n",
    "        current_model = -1\n",
    "        while line:\n",
    "            words = line.strip().split(' ')\n",
    "            if len(words) > 0:\n",
    "                if words[0] == \"MODEL\":\n",
    "                    current_model = words[1]\n",
    "#                     print(\"Current models is: MODEL\", current_model)\n",
    "                elif words[0] == \"ATOM\":\n",
    "                    if current_model == -1:\n",
    "                        raise NameError('Unkown model with MODEL={current_model}')\n",
    "                    x, y, z = 0, 0, 0\n",
    "                    coord_starts = [6, 7, 8]\n",
    "                    last_nonempty = 0\n",
    "                    for idx, word in enumerate(words):\n",
    "                        if len(word.strip()) > 0:\n",
    "                            last_nonempty += 1\n",
    "                            if last_nonempty == coord_starts[0]:\n",
    "                                x = word\n",
    "                            elif last_nonempty == coord_starts[1]:\n",
    "                                y = word\n",
    "                            elif last_nonempty == coord_starts[2]:\n",
    "                                z = word\n",
    "                    current_model_coords = np.array([[x, y, z]])\n",
    "#                     print(f'Atom coords for MODEL={current_model} is {current_model_coords}')\n",
    "                    coords = np.append(coords, current_model_coords, axis=0)\n",
    "                elif words[0] == \"ENDMDL\":\n",
    "                    model_to_coords[int(current_model)] = coords.astype(np.float64)\n",
    "#                     print(f'Finished MODEL={current_model}')\n",
    "                    current_model = -1\n",
    "            line = f.readline()\n",
    "    return model_to_coords"
   ]
  },
  {
   "cell_type": "code",
   "execution_count": 280,
   "id": "c9796591",
   "metadata": {},
   "outputs": [],
   "source": [
    "def read_reslog_file(filename):\n",
    "    model_to_use = []\n",
    "    with open(filename) as f:\n",
    "        line = f.readline()\n",
    "        while line:\n",
    "            words = [w for w in line.strip().split(' ') if w]\n",
    "            if len(words) == 4:\n",
    "                if float(words[2]) <= 2.0:\n",
    "                    model_to_use.append(int(words[0]))\n",
    "            line = f.readline()\n",
    "    return model_to_use"
   ]
  },
  {
   "cell_type": "code",
   "execution_count": 281,
   "id": "90c3371f",
   "metadata": {},
   "outputs": [],
   "source": [
    "def calculate_model_mean(model):\n",
    "    return np.mean(model, axis=0, dtype=np.float64)"
   ]
  },
  {
   "cell_type": "code",
   "execution_count": 303,
   "id": "fc007fb3",
   "metadata": {},
   "outputs": [],
   "source": [
    "def calculate_centers(rootdir):\n",
    "#     centers = np.empty((0, 3))\n",
    "    centers = []\n",
    "    dictfilt = lambda x, y: dict([ (i,x[i]) for i in x if i in set(y) ])\n",
    "    for subdir, dirs, filenames in os.walk(rootdir):\n",
    "        if subdir == rootdir:\n",
    "            continue\n",
    "            \n",
    "        print(\"===\")\n",
    "        print(f'Current directory is \"{subdir}\"')\n",
    "        reslog = os.path.join(subdir, [f for f in filenames if f.endswith(\".log\")][0])\n",
    "        pdbqt = os.path.join(subdir, [f for f in filenames if f.endswith(\".pdbqt\")][0])\n",
    "        print(f'Current reslog file is \"{reslog}\"')\n",
    "        print(f'Current model file is \"{pdbqt}\"')\n",
    "        model_keys_to_use = read_reslog_file(reslog)\n",
    "        print(model_keys_to_use)\n",
    "        models_all = read_model_file(pdbqt)\n",
    "        models_to_use = dictfilt(models_all, model_keys_to_use)\n",
    "        print(models_to_use.keys())\n",
    "#         print(f'Models to use {model_keys_to_use}')\n",
    "        for model in models_to_use.values():\n",
    "#             print(f'model is {model}')\n",
    "#             np.append(centers, calculate_model_mean(model), axis=0)\n",
    "            centers.append(calculate_model_mean(model))\n",
    "    print (centers)\n"
   ]
  },
  {
   "cell_type": "code",
   "execution_count": 304,
   "id": "306b8e54",
   "metadata": {},
   "outputs": [
    {
     "name": "stdout",
     "output_type": "stream",
     "text": [
      "===\n",
      "Current directory is \"./data/3\"\n",
      "Current reslog file is \"./data/3/res.log\"\n",
      "Current model file is \"./data/3/Str-2 3D_out.pdbqt\"\n",
      "[1, 2, 9]\n",
      "dict_keys([1, 2, 9])\n",
      "===\n",
      "Current directory is \"./data/2\"\n",
      "Current reslog file is \"./data/2/res.log\"\n",
      "Current model file is \"./data/2/Str-2 3D_out.pdbqt\"\n",
      "[1, 8]\n",
      "dict_keys([1, 8])\n",
      "===\n",
      "Current directory is \"./data/1\"\n",
      "Current reslog file is \"./data/1/res.log\"\n",
      "Current model file is \"./data/1/Str-2_3D_out.pdbqt\"\n",
      "[1, 5, 9]\n",
      "dict_keys([1, 5, 9])\n",
      "===\n",
      "Current directory is \"./data/5\"\n",
      "Current reslog file is \"./data/5/res.log\"\n",
      "Current model file is \"./data/5/Str-2 3D_out.pdbqt\"\n",
      "[1, 2, 5, 9]\n",
      "dict_keys([1, 2, 5, 9])\n",
      "===\n",
      "Current directory is \"./data/4\"\n",
      "Current reslog file is \"./data/4/res.log\"\n",
      "Current model file is \"./data/4/Str-2 3D_out.pdbqt\"\n",
      "[1, 2, 5, 9]\n",
      "dict_keys([1, 2, 5, 9])\n",
      "[array([ 6.94495833,  0.92654167, 79.82533333]), array([ 6.81447917,  0.864125  , 80.26052083]), array([-1.42072685,  5.14905093, 68.67189352]), array([ 6.94654167,  0.92225   , 79.82358333]), array([-2.43119271,  5.70376042, 67.17108854]), array([ 6.94895833,  0.9395    , 79.82891667]), array([6.40500000e-02, 7.17513333e+00, 6.88241417e+01]), array([-1.44140741,  4.96325926, 68.69914815]), array([ 6.95229167,  0.92954167, 79.82170833]), array([ 6.82354167,  0.84272917, 80.23141667]), array([ 2.242325  ,  4.90900833, 72.71675833]), array([ 0.7331713 ,  6.98929167, 70.07923611]), array([ 6.94216667,  0.93058333, 79.82754167]), array([ 6.81072917,  0.86027083, 80.27483333]), array([ 2.23809167,  4.91315   , 72.727725  ]), array([-0.23230093,  3.70544444, 70.87479167])]\n"
     ]
    }
   ],
   "source": [
    "centers = calculate_centers(\"./data/\")"
   ]
  },
  {
   "cell_type": "code",
   "execution_count": null,
   "id": "6baacaac",
   "metadata": {},
   "outputs": [],
   "source": []
  },
  {
   "cell_type": "code",
   "execution_count": null,
   "id": "2be0f5af",
   "metadata": {},
   "outputs": [],
   "source": []
  },
  {
   "cell_type": "code",
   "execution_count": null,
   "id": "c5551927",
   "metadata": {},
   "outputs": [],
   "source": []
  },
  {
   "cell_type": "code",
   "execution_count": null,
   "id": "2a33747c",
   "metadata": {},
   "outputs": [],
   "source": []
  }
 ],
 "metadata": {
  "kernelspec": {
   "display_name": "Python 3",
   "language": "python",
   "name": "python3"
  },
  "language_info": {
   "codemirror_mode": {
    "name": "ipython",
    "version": 3
   },
   "file_extension": ".py",
   "mimetype": "text/x-python",
   "name": "python",
   "nbconvert_exporter": "python",
   "pygments_lexer": "ipython3",
   "version": "3.9.4"
  }
 },
 "nbformat": 4,
 "nbformat_minor": 5
}
