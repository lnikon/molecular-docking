{
 "cells": [
  {
   "cell_type": "code",
   "execution_count": 18,
   "id": "d092f023",
   "metadata": {},
   "outputs": [],
   "source": [
    "import numpy as np"
   ]
  },
  {
   "cell_type": "code",
   "execution_count": 19,
   "id": "f6bcba0b",
   "metadata": {},
   "outputs": [],
   "source": [
    "### Please note that code in this notebook is as stupid as an African penguin doing quantum physics. Thanks :)"
   ]
  },
  {
   "cell_type": "code",
   "execution_count": 214,
   "id": "1bfce260",
   "metadata": {},
   "outputs": [],
   "source": [
    "def read_atom_coords(filename):\n",
    "    coords = np.empty((0, 3))\n",
    "    with open(filename) as f:\n",
    "        line = f.readline()\n",
    "        while line:\n",
    "            words = line.strip().split(' ')\n",
    "            if len(words) > 0:\n",
    "                if words[0] == \"ATOM\":\n",
    "                    x, y, z = 0, 0, 0\n",
    "                    coord_starts = [6, 7, 8]\n",
    "                    last_nonempty = 0\n",
    "                    for idx, word in enumerate(words):\n",
    "                        if len(word.strip()) > 0:\n",
    "                            last_nonempty += 1\n",
    "                            if last_nonempty == coord_starts[0]:\n",
    "                                x = word\n",
    "                            elif last_nonempty == coord_starts[1]:\n",
    "                                y = word\n",
    "                            elif last_nonempty == coord_starts[2]:\n",
    "                                z = word\n",
    "                    coords = np.append(coords, np.array([[x, y, z]]), axis=0)\n",
    "            line = f.readline()\n",
    "    return coords.astype(np.float64)"
   ]
  },
  {
   "cell_type": "code",
   "execution_count": null,
   "id": "90c3371f",
   "metadata": {},
   "outputs": [],
   "source": [
    "def calculate_model_mean(model):\n",
    "    return np.mean(coords, axis=0, dtype=np.float64)"
   ]
  },
  {
   "cell_type": "code",
   "execution_count": 220,
   "id": "fc007fb3",
   "metadata": {},
   "outputs": [
    {
     "data": {
      "text/plain": [
       "array([ 6.94895833,  0.9395    , 79.82891667])"
      ]
     },
     "execution_count": 220,
     "metadata": {},
     "output_type": "execute_result"
    }
   ],
   "source": [
    "model = read_atom_coords(\"./data/1/single_model_1.pdbqt\")\n",
    "calculate_model_mean(model)"
   ]
  },
  {
   "cell_type": "code",
   "execution_count": null,
   "id": "306b8e54",
   "metadata": {},
   "outputs": [],
   "source": []
  },
  {
   "cell_type": "code",
   "execution_count": 218,
   "id": "6baacaac",
   "metadata": {},
   "outputs": [],
   "source": []
  },
  {
   "cell_type": "code",
   "execution_count": null,
   "id": "2be0f5af",
   "metadata": {},
   "outputs": [],
   "source": []
  },
  {
   "cell_type": "code",
   "execution_count": null,
   "id": "c5551927",
   "metadata": {},
   "outputs": [],
   "source": []
  },
  {
   "cell_type": "code",
   "execution_count": null,
   "id": "2a33747c",
   "metadata": {},
   "outputs": [],
   "source": []
  }
 ],
 "metadata": {
  "kernelspec": {
   "display_name": "Python 3",
   "language": "python",
   "name": "python3"
  },
  "language_info": {
   "codemirror_mode": {
    "name": "ipython",
    "version": 3
   },
   "file_extension": ".py",
   "mimetype": "text/x-python",
   "name": "python",
   "nbconvert_exporter": "python",
   "pygments_lexer": "ipython3",
   "version": "3.9.2"
  }
 },
 "nbformat": 4,
 "nbformat_minor": 5
}
