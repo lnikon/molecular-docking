{
 "cells": [
  {
   "cell_type": "code",
   "execution_count": 18,
   "id": "d092f023",
   "metadata": {},
   "outputs": [],
   "source": [
    "import numpy as np"
   ]
  },
  {
   "cell_type": "code",
   "execution_count": 19,
   "id": "f6bcba0b",
   "metadata": {},
   "outputs": [],
   "source": [
    "### Please note that code in this notebook is as stupid as an African penguin doing quantum physics. Thanks :)"
   ]
  },
  {
   "cell_type": "code",
   "execution_count": 201,
   "id": "1bfce260",
   "metadata": {},
   "outputs": [],
   "source": [
    "def read_atom_coords(filename):\n",
    "    coords = np.empty((0, 3))\n",
    "    with open(filename) as f:\n",
    "        line = f.readline()\n",
    "        while line:\n",
    "            words = line.strip().split(' ')\n",
    "            if len(words) > 0:\n",
    "                if words[0] == \"ATOM\":\n",
    "                    x, y, z = 0, 0, 0\n",
    "                    coord_starts = [6, 7, 8]\n",
    "                    last_nonempty = 0\n",
    "                    for idx, word in enumerate(words):\n",
    "                        if len(word.strip()) > 0:\n",
    "                            last_nonempty += 1\n",
    "                            if last_nonempty == coord_starts[0]:\n",
    "                                x = word\n",
    "                            elif last_nonempty == coord_starts[1]:\n",
    "                                y = word\n",
    "                            elif last_nonempty == coord_starts[2]:\n",
    "                                z = word\n",
    "                    coords = np.append(coords, np.array([x, y, z]), axis=0)\n",
    "            line = f.readline()\n",
    "    return coords"
   ]
  },
  {
   "cell_type": "code",
   "execution_count": 202,
   "id": "306b8e54",
   "metadata": {},
   "outputs": [
    {
     "ename": "TypeError",
     "evalue": "'axis' is an invalid keyword argument for array()",
     "output_type": "error",
     "traceback": [
      "\u001b[0;31m---------------------------------------------------------------------------\u001b[0m",
      "\u001b[0;31mTypeError\u001b[0m                                 Traceback (most recent call last)",
      "\u001b[0;32m<ipython-input-202-463c3b76e830>\u001b[0m in \u001b[0;36m<module>\u001b[0;34m\u001b[0m\n\u001b[0;32m----> 1\u001b[0;31m \u001b[0mread_atom_coords\u001b[0m\u001b[0;34m(\u001b[0m\u001b[0;34m\"./data/1/single_model_1.pdbqt\"\u001b[0m\u001b[0;34m)\u001b[0m\u001b[0;34m\u001b[0m\u001b[0;34m\u001b[0m\u001b[0m\n\u001b[0m",
      "\u001b[0;32m<ipython-input-201-6ea570657fcd>\u001b[0m in \u001b[0;36mread_atom_coords\u001b[0;34m(filename)\u001b[0m\n\u001b[1;32m     19\u001b[0m                             \u001b[0;32melif\u001b[0m \u001b[0mlast_nonempty\u001b[0m \u001b[0;34m==\u001b[0m \u001b[0mcoord_starts\u001b[0m\u001b[0;34m[\u001b[0m\u001b[0;36m2\u001b[0m\u001b[0;34m]\u001b[0m\u001b[0;34m:\u001b[0m\u001b[0;34m\u001b[0m\u001b[0;34m\u001b[0m\u001b[0m\n\u001b[1;32m     20\u001b[0m                                 \u001b[0mz\u001b[0m \u001b[0;34m=\u001b[0m \u001b[0mword\u001b[0m\u001b[0;34m\u001b[0m\u001b[0;34m\u001b[0m\u001b[0m\n\u001b[0;32m---> 21\u001b[0;31m                     \u001b[0mcoords\u001b[0m \u001b[0;34m=\u001b[0m \u001b[0mnp\u001b[0m\u001b[0;34m.\u001b[0m\u001b[0mappend\u001b[0m\u001b[0;34m(\u001b[0m\u001b[0mcoords\u001b[0m\u001b[0;34m,\u001b[0m \u001b[0mnp\u001b[0m\u001b[0;34m.\u001b[0m\u001b[0marray\u001b[0m\u001b[0;34m(\u001b[0m\u001b[0;34m[\u001b[0m\u001b[0mx\u001b[0m\u001b[0;34m,\u001b[0m \u001b[0my\u001b[0m\u001b[0;34m,\u001b[0m \u001b[0mz\u001b[0m\u001b[0;34m]\u001b[0m\u001b[0;34m,\u001b[0m \u001b[0maxis\u001b[0m\u001b[0;34m=\u001b[0m\u001b[0;36m0\u001b[0m\u001b[0;34m)\u001b[0m\u001b[0;34m)\u001b[0m\u001b[0;34m\u001b[0m\u001b[0;34m\u001b[0m\u001b[0m\n\u001b[0m\u001b[1;32m     22\u001b[0m             \u001b[0mline\u001b[0m \u001b[0;34m=\u001b[0m \u001b[0mf\u001b[0m\u001b[0;34m.\u001b[0m\u001b[0mreadline\u001b[0m\u001b[0;34m(\u001b[0m\u001b[0;34m)\u001b[0m\u001b[0;34m\u001b[0m\u001b[0;34m\u001b[0m\u001b[0m\n\u001b[1;32m     23\u001b[0m     \u001b[0;32mreturn\u001b[0m \u001b[0mcoords\u001b[0m\u001b[0;34m\u001b[0m\u001b[0;34m\u001b[0m\u001b[0m\n",
      "\u001b[0;31mTypeError\u001b[0m: 'axis' is an invalid keyword argument for array()"
     ]
    }
   ],
   "source": [
    "read_atom_coords(\"./data/1/single_model_1.pdbqt\")\n"
   ]
  },
  {
   "cell_type": "code",
   "execution_count": 203,
   "id": "6baacaac",
   "metadata": {},
   "outputs": [
    {
     "name": "stdout",
     "output_type": "stream",
     "text": [
      "[]\n"
     ]
    },
    {
     "data": {
      "text/plain": [
       "array([12.,  3.])"
      ]
     },
     "execution_count": 203,
     "metadata": {},
     "output_type": "execute_result"
    }
   ],
   "source": [
    "a = np.empty((0,3))\n",
    "print(a)\n",
    "np.append(a, [12, 3])"
   ]
  },
  {
   "cell_type": "code",
   "execution_count": null,
   "id": "2be0f5af",
   "metadata": {},
   "outputs": [],
   "source": []
  },
  {
   "cell_type": "code",
   "execution_count": null,
   "id": "c5551927",
   "metadata": {},
   "outputs": [],
   "source": []
  },
  {
   "cell_type": "code",
   "execution_count": null,
   "id": "2a33747c",
   "metadata": {},
   "outputs": [],
   "source": []
  }
 ],
 "metadata": {
  "kernelspec": {
   "display_name": "Python 3",
   "language": "python",
   "name": "python3"
  },
  "language_info": {
   "codemirror_mode": {
    "name": "ipython",
    "version": 3
   },
   "file_extension": ".py",
   "mimetype": "text/x-python",
   "name": "python",
   "nbconvert_exporter": "python",
   "pygments_lexer": "ipython3",
   "version": "3.9.2"
  }
 },
 "nbformat": 4,
 "nbformat_minor": 5
}
