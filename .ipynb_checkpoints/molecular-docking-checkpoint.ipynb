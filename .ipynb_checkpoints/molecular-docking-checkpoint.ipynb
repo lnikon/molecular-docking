{
 "cells": [
  {
   "cell_type": "code",
   "execution_count": 415,
   "id": "d092f023",
   "metadata": {},
   "outputs": [],
   "source": [
    "import numpy as np\n",
    "import os\n",
    "from sklearn.cluster import KMeans\n",
    "import matplotlib.pyplot as plt\n",
    "import seaborn as sns; sns.set()  # for plot styling\n",
    "\n",
    "%matplotlib inline"
   ]
  },
  {
   "cell_type": "code",
   "execution_count": 416,
   "id": "f6bcba0b",
   "metadata": {},
   "outputs": [],
   "source": [
    "# Set True if you want to trace the parsing process\n",
    "trace_parsing = False"
   ]
  },
  {
   "cell_type": "code",
   "execution_count": 427,
   "id": "1bfce260",
   "metadata": {},
   "outputs": [],
   "source": [
    "def read_model_file(filename, trace_pasing):\n",
    "    coords = np.empty((0, 3))\n",
    "    with open(filename) as f:\n",
    "        line = f.readline()\n",
    "        model_to_coords = {}\n",
    "        current_model = -1\n",
    "        while line:\n",
    "            words = line.strip().split(' ')\n",
    "            if len(words) > 0:\n",
    "                if words[0] == \"MODEL\":\n",
    "                    current_model = words[1]\n",
    "                    if trace_parsing:\n",
    "                        print(\"Current models is: MODEL\", current_model)\n",
    "                elif words[0] == \"ATOM\":\n",
    "                    if current_model == -1:\n",
    "                        raise NameError('Unkown model with MODEL={current_model}')\n",
    "                    x, y, z = 0, 0, 0\n",
    "                    coord_starts = [6, 7, 8]\n",
    "                    last_nonempty = 0\n",
    "                    for idx, word in enumerate(words):\n",
    "                        if len(word.strip()) > 0:\n",
    "                            last_nonempty += 1\n",
    "                            if last_nonempty == coord_starts[0]:\n",
    "                                x = word\n",
    "                            elif last_nonempty == coord_starts[1]:\n",
    "                                y = word\n",
    "                            elif last_nonempty == coord_starts[2]:\n",
    "                                z = word\n",
    "                    current_model_coords = np.array([[x, y, z]])\n",
    "                    if trace_parsing:\n",
    "                        print(f'Atom coords for MODEL={current_model} is {current_model_coords}')\n",
    "                    coords = np.append(coords, current_model_coords, axis=0)\n",
    "                elif words[0] == \"ENDMDL\":\n",
    "#                     print(f'coords.shape = {coords.shape}')\n",
    "                    model_to_coords[int(current_model)] = coords.astype(np.float64)\n",
    "                    if trace_parsing:\n",
    "                        print(f'Finished MODEL={current_model}')\n",
    "                    current_model = -1\n",
    "            line = f.readline()\n",
    "    return model_to_coords"
   ]
  },
  {
   "cell_type": "code",
   "execution_count": 428,
   "id": "f1f7a298",
   "metadata": {},
   "outputs": [],
   "source": [
    "def read_reslog_file(filename):\n",
    "    model_to_use = []\n",
    "    with open(filename) as f:\n",
    "        line = f.readline()\n",
    "        while line:\n",
    "            words = [w for w in line.strip().split(' ') if w]\n",
    "            if len(words) == 4:\n",
    "                if float(words[2]) <= 2.0:\n",
    "                    model_to_use.append(int(words[0]))\n",
    "            line = f.readline()\n",
    "    return model_to_use"
   ]
  },
  {
   "cell_type": "code",
   "execution_count": 429,
   "id": "90c3371f",
   "metadata": {},
   "outputs": [],
   "source": [
    "def calculate_model_mean(model):\n",
    "    return np.mean(model, axis=0, dtype=np.float64).reshape(1, 3)"
   ]
  },
  {
   "cell_type": "code",
   "execution_count": 430,
   "id": "fc007fb3",
   "metadata": {},
   "outputs": [],
   "source": [
    "def calculate_centers(rootdir):\n",
    "    centers = np.empty((0, 3))\n",
    "    dictfilt = lambda x, y: dict([ (i,x[i]) for i in x if i in set(y) ])\n",
    "    for subdir, dirs, filenames in os.walk(rootdir):\n",
    "        if subdir == rootdir:\n",
    "            continue\n",
    "            \n",
    "        print(\"===\")\n",
    "        \n",
    "        reslog = os.path.join(subdir, [f for f in filenames if f.endswith(\".log\")][0])\n",
    "        pdbqt = os.path.join(subdir, [f for f in filenames if f.endswith(\".pdbqt\")][0])\n",
    "        print(f'Current directory is \"{subdir}\"')\n",
    "        print(f'Current reslog file is \"{reslog}\"')\n",
    "        print(f'Current model file is \"{pdbqt}\"')\n",
    "\n",
    "        model_keys_to_use = read_reslog_file(reslog)\n",
    "        print(f'Following models will be used {model_keys_to_use}')\n",
    "        \n",
    "        models_all = read_model_file(pdbqt, trace_parsing)\n",
    "        models_to_use = dictfilt(models_all, model_keys_to_use)\n",
    "        for model in models_to_use.values():\n",
    "#             print(f'model.shape={model.shape}')\n",
    "#             print(f'model.mean={calculate_model_mean(model)}')\n",
    "            centers = np.append(centers, calculate_model_mean(model), axis=0)\n",
    "#             print(f'centers.shape={centers.shape}')\n",
    "        print(\"===\")\n",
    "        \n",
    "    return centers"
   ]
  },
  {
   "cell_type": "code",
   "execution_count": 431,
   "id": "306b8e54",
   "metadata": {
    "scrolled": false
   },
   "outputs": [
    {
     "name": "stdout",
     "output_type": "stream",
     "text": [
      "===\n",
      "Current directory is \"./data/3\"\n",
      "Current reslog file is \"./data/3/res.log\"\n",
      "Current model file is \"./data/3/Str-2 3D_out.pdbqt\"\n",
      "Following models will be used [1, 2, 9]\n",
      "===\n",
      "===\n",
      "Current directory is \"./data/2\"\n",
      "Current reslog file is \"./data/2/res.log\"\n",
      "Current model file is \"./data/2/Str-2 3D_out.pdbqt\"\n",
      "Following models will be used [1, 8]\n",
      "===\n",
      "===\n",
      "Current directory is \"./data/1\"\n",
      "Current reslog file is \"./data/1/res.log\"\n",
      "Current model file is \"./data/1/Str-2_3D_out.pdbqt\"\n",
      "Following models will be used [1, 5, 9]\n",
      "===\n",
      "===\n",
      "Current directory is \"./data/5\"\n",
      "Current reslog file is \"./data/5/res.log\"\n",
      "Current model file is \"./data/5/Str-2 3D_out.pdbqt\"\n",
      "Following models will be used [1, 2, 5, 9]\n",
      "===\n",
      "===\n",
      "Current directory is \"./data/4\"\n",
      "Current reslog file is \"./data/4/res.log\"\n",
      "Current model file is \"./data/4/Str-2 3D_out.pdbqt\"\n",
      "Following models will be used [1, 2, 5, 9]\n",
      "===\n"
     ]
    }
   ],
   "source": [
    "models = calculate_centers(\"./data/\")"
   ]
  },
  {
   "cell_type": "code",
   "execution_count": 437,
   "id": "6baacaac",
   "metadata": {},
   "outputs": [
    {
     "data": {
      "image/png": "[encoded data removed]",
      "text/plain": [
       "<Figure size 432x288 with 1 Axes>"
      ]
     },
     "metadata": {
      "needs_background": "light"
     },
     "output_type": "display_data"
    }
   ],
   "source": [
    "cluster_sizes = [1, 2, 3, 4, 5, 6, 7]\n",
    "for cluster_size in cluster_sizes:\n",
    "    kmeans = KMeans(n_clusters=cluster_size)\n",
    "    kmeans.fit(models)\n",
    "    y_kmeans = kmeans.predict(models)\n",
    "    \n",
    "    plt.scatter(models[:, 0], models[:, :1], c=y_kmeans, s=50, cmap='viridis')\n",
    "\n",
    "    centers = kmeans.cluster_centers_\n",
    "#     plt.scatter(centers[:, 0], centers[:, 1], c='black', s=200, alpha=0.5);"
   ]
  },
  {
   "cell_type": "code",
   "execution_count": 435,
   "id": "2be0f5af",
   "metadata": {},
   "outputs": [
    {
     "data": {
      "text/plain": [
       "(16, 3)"
      ]
     },
     "execution_count": 435,
     "metadata": {},
     "output_type": "execute_result"
    }
   ],
   "source": [
    "models.shape"
   ]
  },
  {
   "cell_type": "code",
   "execution_count": null,
   "id": "c5551927",
   "metadata": {},
   "outputs": [],
   "source": []
  },
  {
   "cell_type": "code",
   "execution_count": null,
   "id": "2a33747c",
   "metadata": {},
   "outputs": [],
   "source": []
  }
 ],
 "metadata": {
  "kernelspec": {
   "display_name": "Python 3",
   "language": "python",
   "name": "python3"
  },
  "language_info": {
   "codemirror_mode": {
    "name": "ipython",
    "version": 3
   },
   "file_extension": ".py",
   "mimetype": "text/x-python",
   "name": "python",
   "nbconvert_exporter": "python",
   "pygments_lexer": "ipython3",
   "version": "3.9.4"
  }
 },
 "nbformat": 4,
 "nbformat_minor": 5
}
